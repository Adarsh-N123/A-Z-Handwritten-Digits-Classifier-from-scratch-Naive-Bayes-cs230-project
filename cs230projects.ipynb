{
  "nbformat": 4,
  "nbformat_minor": 0,
  "metadata": {
    "colab": {
      "provenance": [],
      "authorship_tag": "ABX9TyN4xm+sz227cwUQHr6juXLE",
      "include_colab_link": true
    },
    "kernelspec": {
      "name": "python3",
      "display_name": "Python 3"
    },
    "language_info": {
      "name": "python"
    },
    "gpuClass": "standard",
    "accelerator": "GPU"
  },
  "cells": [
    {
      "cell_type": "markdown",
      "metadata": {
        "id": "view-in-github",
        "colab_type": "text"
      },
      "source": [
        "<a href=\"https://colab.research.google.com/github/Adarsh-N123/A-Z-Handwritten-Digits-Classifier-from-scratch-Naive-Bayes-cs230-project/blob/main/cs230projects.ipynb\" target=\"_parent\"><img src=\"https://colab.research.google.com/assets/colab-badge.svg\" alt=\"Open In Colab\"/></a>"
      ]
    },
    {
      "cell_type": "code",
      "execution_count": null,
      "metadata": {
        "id": "AFdIZn_62C7T"
      },
      "outputs": [],
      "source": [
        "import PIL\n",
        "import numpy as np\n",
        "import pandas as pd\n",
        "import matplotlib.pyplot as plt\n",
        "import seaborn as sns"
      ]
    },
    {
      "cell_type": "code",
      "source": [
        "import os\n",
        "os.environ['KAGGLE_USERNAME'] = \"nidamanurisaiadarsh\"\n",
        "os.environ['KAGGLE_KEY'] = \"be6ca3bc2dd7bf970efd0e0c39996073\""
      ],
      "metadata": {
        "id": "znsWKFCS2LjD"
      },
      "execution_count": null,
      "outputs": []
    },
    {
      "cell_type": "code",
      "source": [
        "!kaggle datasets download sachinpatel21/az-handwritten-alphabets-in-csv-format"
      ],
      "metadata": {
        "colab": {
          "base_uri": "https://localhost:8080/"
        },
        "id": "MbKpk75Ht9rd",
        "outputId": "719c33c6-aaa0-460f-f76a-5229d9a1e0dd"
      },
      "execution_count": null,
      "outputs": [
        {
          "output_type": "stream",
          "name": "stdout",
          "text": [
            "az-handwritten-alphabets-in-csv-format.zip: Skipping, found more recently modified local copy (use --force to force download)\n"
          ]
        }
      ]
    },
    {
      "cell_type": "code",
      "source": [],
      "metadata": {
        "id": "K9o7B24BnPxX"
      },
      "execution_count": null,
      "outputs": []
    },
    {
      "cell_type": "code",
      "source": [
        "!unzip az-handwritten-alphabets-in-csv-format.zip"
      ],
      "metadata": {
        "colab": {
          "base_uri": "https://localhost:8080/"
        },
        "id": "Tgw9AP60uH4c",
        "outputId": "f01b4d93-336f-4895-86de-07bcaeac399c"
      },
      "execution_count": null,
      "outputs": [
        {
          "output_type": "stream",
          "name": "stdout",
          "text": [
            "Archive:  az-handwritten-alphabets-in-csv-format.zip\n",
            "replace A_Z Handwritten Data.csv? [y]es, [n]o, [A]ll, [N]one, [r]ename: N\n"
          ]
        }
      ]
    },
    {
      "cell_type": "code",
      "source": [
        "df = pd.read_csv(\"A_Z Handwritten Data.csv\")\n",
        "y = df[\"0\"]\n",
        "x = df.drop(\"0\",axis=1)"
      ],
      "metadata": {
        "id": "5rCSZGzsuR8G"
      },
      "execution_count": null,
      "outputs": []
    },
    {
      "cell_type": "code",
      "source": [
        "df.head()"
      ],
      "metadata": {
        "colab": {
          "base_uri": "https://localhost:8080/",
          "height": 235
        },
        "id": "i62uLaesue8p",
        "outputId": "dda2c3fb-60aa-4bf3-8279-403887eb8f09"
      },
      "execution_count": null,
      "outputs": [
        {
          "output_type": "execute_result",
          "data": {
            "text/plain": [
              "   0  0.1  0.2  0.3  0.4  0.5  0.6  0.7  0.8  0.9  ...  0.639  0.640  0.641  \\\n",
              "0  0    0    0    0    0    0    0    0    0    0  ...      0      0      0   \n",
              "1  0    0    0    0    0    0    0    0    0    0  ...      0      0      0   \n",
              "2  0    0    0    0    0    0    0    0    0    0  ...      0      0      0   \n",
              "3  0    0    0    0    0    0    0    0    0    0  ...      0      0      0   \n",
              "4  0    0    0    0    0    0    0    0    0    0  ...      0      0      0   \n",
              "\n",
              "   0.642  0.643  0.644  0.645  0.646  0.647  0.648  \n",
              "0      0      0      0      0      0      0      0  \n",
              "1      0      0      0      0      0      0      0  \n",
              "2      0      0      0      0      0      0      0  \n",
              "3      0      0      0      0      0      0      0  \n",
              "4      0      0      0      0      0      0      0  \n",
              "\n",
              "[5 rows x 785 columns]"
            ],
            "text/html": [
              "\n",
              "  <div id=\"df-4cee06ec-b03d-4f47-b0ac-74ee301ad746\">\n",
              "    <div class=\"colab-df-container\">\n",
              "      <div>\n",
              "<style scoped>\n",
              "    .dataframe tbody tr th:only-of-type {\n",
              "        vertical-align: middle;\n",
              "    }\n",
              "\n",
              "    .dataframe tbody tr th {\n",
              "        vertical-align: top;\n",
              "    }\n",
              "\n",
              "    .dataframe thead th {\n",
              "        text-align: right;\n",
              "    }\n",
              "</style>\n",
              "<table border=\"1\" class=\"dataframe\">\n",
              "  <thead>\n",
              "    <tr style=\"text-align: right;\">\n",
              "      <th></th>\n",
              "      <th>0</th>\n",
              "      <th>0.1</th>\n",
              "      <th>0.2</th>\n",
              "      <th>0.3</th>\n",
              "      <th>0.4</th>\n",
              "      <th>0.5</th>\n",
              "      <th>0.6</th>\n",
              "      <th>0.7</th>\n",
              "      <th>0.8</th>\n",
              "      <th>0.9</th>\n",
              "      <th>...</th>\n",
              "      <th>0.639</th>\n",
              "      <th>0.640</th>\n",
              "      <th>0.641</th>\n",
              "      <th>0.642</th>\n",
              "      <th>0.643</th>\n",
              "      <th>0.644</th>\n",
              "      <th>0.645</th>\n",
              "      <th>0.646</th>\n",
              "      <th>0.647</th>\n",
              "      <th>0.648</th>\n",
              "    </tr>\n",
              "  </thead>\n",
              "  <tbody>\n",
              "    <tr>\n",
              "      <th>0</th>\n",
              "      <td>0</td>\n",
              "      <td>0</td>\n",
              "      <td>0</td>\n",
              "      <td>0</td>\n",
              "      <td>0</td>\n",
              "      <td>0</td>\n",
              "      <td>0</td>\n",
              "      <td>0</td>\n",
              "      <td>0</td>\n",
              "      <td>0</td>\n",
              "      <td>...</td>\n",
              "      <td>0</td>\n",
              "      <td>0</td>\n",
              "      <td>0</td>\n",
              "      <td>0</td>\n",
              "      <td>0</td>\n",
              "      <td>0</td>\n",
              "      <td>0</td>\n",
              "      <td>0</td>\n",
              "      <td>0</td>\n",
              "      <td>0</td>\n",
              "    </tr>\n",
              "    <tr>\n",
              "      <th>1</th>\n",
              "      <td>0</td>\n",
              "      <td>0</td>\n",
              "      <td>0</td>\n",
              "      <td>0</td>\n",
              "      <td>0</td>\n",
              "      <td>0</td>\n",
              "      <td>0</td>\n",
              "      <td>0</td>\n",
              "      <td>0</td>\n",
              "      <td>0</td>\n",
              "      <td>...</td>\n",
              "      <td>0</td>\n",
              "      <td>0</td>\n",
              "      <td>0</td>\n",
              "      <td>0</td>\n",
              "      <td>0</td>\n",
              "      <td>0</td>\n",
              "      <td>0</td>\n",
              "      <td>0</td>\n",
              "      <td>0</td>\n",
              "      <td>0</td>\n",
              "    </tr>\n",
              "    <tr>\n",
              "      <th>2</th>\n",
              "      <td>0</td>\n",
              "      <td>0</td>\n",
              "      <td>0</td>\n",
              "      <td>0</td>\n",
              "      <td>0</td>\n",
              "      <td>0</td>\n",
              "      <td>0</td>\n",
              "      <td>0</td>\n",
              "      <td>0</td>\n",
              "      <td>0</td>\n",
              "      <td>...</td>\n",
              "      <td>0</td>\n",
              "      <td>0</td>\n",
              "      <td>0</td>\n",
              "      <td>0</td>\n",
              "      <td>0</td>\n",
              "      <td>0</td>\n",
              "      <td>0</td>\n",
              "      <td>0</td>\n",
              "      <td>0</td>\n",
              "      <td>0</td>\n",
              "    </tr>\n",
              "    <tr>\n",
              "      <th>3</th>\n",
              "      <td>0</td>\n",
              "      <td>0</td>\n",
              "      <td>0</td>\n",
              "      <td>0</td>\n",
              "      <td>0</td>\n",
              "      <td>0</td>\n",
              "      <td>0</td>\n",
              "      <td>0</td>\n",
              "      <td>0</td>\n",
              "      <td>0</td>\n",
              "      <td>...</td>\n",
              "      <td>0</td>\n",
              "      <td>0</td>\n",
              "      <td>0</td>\n",
              "      <td>0</td>\n",
              "      <td>0</td>\n",
              "      <td>0</td>\n",
              "      <td>0</td>\n",
              "      <td>0</td>\n",
              "      <td>0</td>\n",
              "      <td>0</td>\n",
              "    </tr>\n",
              "    <tr>\n",
              "      <th>4</th>\n",
              "      <td>0</td>\n",
              "      <td>0</td>\n",
              "      <td>0</td>\n",
              "      <td>0</td>\n",
              "      <td>0</td>\n",
              "      <td>0</td>\n",
              "      <td>0</td>\n",
              "      <td>0</td>\n",
              "      <td>0</td>\n",
              "      <td>0</td>\n",
              "      <td>...</td>\n",
              "      <td>0</td>\n",
              "      <td>0</td>\n",
              "      <td>0</td>\n",
              "      <td>0</td>\n",
              "      <td>0</td>\n",
              "      <td>0</td>\n",
              "      <td>0</td>\n",
              "      <td>0</td>\n",
              "      <td>0</td>\n",
              "      <td>0</td>\n",
              "    </tr>\n",
              "  </tbody>\n",
              "</table>\n",
              "<p>5 rows × 785 columns</p>\n",
              "</div>\n",
              "      <button class=\"colab-df-convert\" onclick=\"convertToInteractive('df-4cee06ec-b03d-4f47-b0ac-74ee301ad746')\"\n",
              "              title=\"Convert this dataframe to an interactive table.\"\n",
              "              style=\"display:none;\">\n",
              "        \n",
              "  <svg xmlns=\"http://www.w3.org/2000/svg\" height=\"24px\"viewBox=\"0 0 24 24\"\n",
              "       width=\"24px\">\n",
              "    <path d=\"M0 0h24v24H0V0z\" fill=\"none\"/>\n",
              "    <path d=\"M18.56 5.44l.94 2.06.94-2.06 2.06-.94-2.06-.94-.94-2.06-.94 2.06-2.06.94zm-11 1L8.5 8.5l.94-2.06 2.06-.94-2.06-.94L8.5 2.5l-.94 2.06-2.06.94zm10 10l.94 2.06.94-2.06 2.06-.94-2.06-.94-.94-2.06-.94 2.06-2.06.94z\"/><path d=\"M17.41 7.96l-1.37-1.37c-.4-.4-.92-.59-1.43-.59-.52 0-1.04.2-1.43.59L10.3 9.45l-7.72 7.72c-.78.78-.78 2.05 0 2.83L4 21.41c.39.39.9.59 1.41.59.51 0 1.02-.2 1.41-.59l7.78-7.78 2.81-2.81c.8-.78.8-2.07 0-2.86zM5.41 20L4 18.59l7.72-7.72 1.47 1.35L5.41 20z\"/>\n",
              "  </svg>\n",
              "      </button>\n",
              "      \n",
              "  <style>\n",
              "    .colab-df-container {\n",
              "      display:flex;\n",
              "      flex-wrap:wrap;\n",
              "      gap: 12px;\n",
              "    }\n",
              "\n",
              "    .colab-df-convert {\n",
              "      background-color: #E8F0FE;\n",
              "      border: none;\n",
              "      border-radius: 50%;\n",
              "      cursor: pointer;\n",
              "      display: none;\n",
              "      fill: #1967D2;\n",
              "      height: 32px;\n",
              "      padding: 0 0 0 0;\n",
              "      width: 32px;\n",
              "    }\n",
              "\n",
              "    .colab-df-convert:hover {\n",
              "      background-color: #E2EBFA;\n",
              "      box-shadow: 0px 1px 2px rgba(60, 64, 67, 0.3), 0px 1px 3px 1px rgba(60, 64, 67, 0.15);\n",
              "      fill: #174EA6;\n",
              "    }\n",
              "\n",
              "    [theme=dark] .colab-df-convert {\n",
              "      background-color: #3B4455;\n",
              "      fill: #D2E3FC;\n",
              "    }\n",
              "\n",
              "    [theme=dark] .colab-df-convert:hover {\n",
              "      background-color: #434B5C;\n",
              "      box-shadow: 0px 1px 3px 1px rgba(0, 0, 0, 0.15);\n",
              "      filter: drop-shadow(0px 1px 2px rgba(0, 0, 0, 0.3));\n",
              "      fill: #FFFFFF;\n",
              "    }\n",
              "  </style>\n",
              "\n",
              "      <script>\n",
              "        const buttonEl =\n",
              "          document.querySelector('#df-4cee06ec-b03d-4f47-b0ac-74ee301ad746 button.colab-df-convert');\n",
              "        buttonEl.style.display =\n",
              "          google.colab.kernel.accessAllowed ? 'block' : 'none';\n",
              "\n",
              "        async function convertToInteractive(key) {\n",
              "          const element = document.querySelector('#df-4cee06ec-b03d-4f47-b0ac-74ee301ad746');\n",
              "          const dataTable =\n",
              "            await google.colab.kernel.invokeFunction('convertToInteractive',\n",
              "                                                     [key], {});\n",
              "          if (!dataTable) return;\n",
              "\n",
              "          const docLinkHtml = 'Like what you see? Visit the ' +\n",
              "            '<a target=\"_blank\" href=https://colab.research.google.com/notebooks/data_table.ipynb>data table notebook</a>'\n",
              "            + ' to learn more about interactive tables.';\n",
              "          element.innerHTML = '';\n",
              "          dataTable['output_type'] = 'display_data';\n",
              "          await google.colab.output.renderOutput(dataTable, element);\n",
              "          const docLink = document.createElement('div');\n",
              "          docLink.innerHTML = docLinkHtml;\n",
              "          element.appendChild(docLink);\n",
              "        }\n",
              "      </script>\n",
              "    </div>\n",
              "  </div>\n",
              "  "
            ]
          },
          "metadata": {},
          "execution_count": 3
        }
      ]
    },
    {
      "cell_type": "code",
      "source": [
        "x = x//64"
      ],
      "metadata": {
        "id": "obNe_grWvCpE"
      },
      "execution_count": null,
      "outputs": []
    },
    {
      "cell_type": "code",
      "source": [
        "y.unique()"
      ],
      "metadata": {
        "colab": {
          "base_uri": "https://localhost:8080/"
        },
        "id": "52-NLO7SwpWE",
        "outputId": "75d938c8-b075-4aa9-df64-2b8e08814f34"
      },
      "execution_count": null,
      "outputs": [
        {
          "output_type": "execute_result",
          "data": {
            "text/plain": [
              "array([ 0,  1,  2,  3,  4,  5,  6,  7,  8,  9, 10, 11, 12, 13, 14, 15, 16,\n",
              "       17, 18, 19, 20, 21, 22, 23, 24, 25])"
            ]
          },
          "metadata": {},
          "execution_count": 5
        }
      ]
    },
    {
      "cell_type": "code",
      "source": [
        "y1 = y.replace([ 0,  1,  2,  3,  4,  5,  6,  7,  8,  9, 10, 11, 12, 13, 14, 15, 16,\n",
        "       17, 18, 19, 20, 21, 22, 23, 24, 25],['A', 'B', 'C', 'D', 'E', 'F', 'G', 'H', 'I', 'J', 'K', 'L', 'M',\n",
        "'N', 'O', 'P', 'Q', 'R', 'S', 'T', 'U', 'V', 'W', 'X', 'Y', 'Z'])"
      ],
      "metadata": {
        "id": "V83hYbauxH4Y"
      },
      "execution_count": null,
      "outputs": []
    },
    {
      "cell_type": "code",
      "source": [
        "y1.value_counts().sum()"
      ],
      "metadata": {
        "colab": {
          "base_uri": "https://localhost:8080/"
        },
        "id": "rMm2gTEtyMBk",
        "outputId": "ac3b486b-4aa4-4d19-e03c-790560754a9f"
      },
      "execution_count": null,
      "outputs": [
        {
          "output_type": "execute_result",
          "data": {
            "text/plain": [
              "372450"
            ]
          },
          "metadata": {},
          "execution_count": 7
        }
      ]
    },
    {
      "cell_type": "code",
      "source": [
        "from sklearn.model_selection import train_test_split\n",
        "X_test, x, y_test, y = train_test_split(x, y, test_size=0.9, stratify=y)"
      ],
      "metadata": {
        "id": "AMuAuQKC8GWP"
      },
      "execution_count": null,
      "outputs": []
    },
    {
      "cell_type": "code",
      "source": [
        "L=[]\n",
        "for i in range(26):\n",
        "  count = len(y[y==i])\n",
        "  prob = count\n",
        "  L.append(prob)"
      ],
      "metadata": {
        "id": "t3GPBy5QyOJP"
      },
      "execution_count": null,
      "outputs": []
    },
    {
      "cell_type": "code",
      "source": [
        "L#number at index i probability that a given test alphabet is i"
      ],
      "metadata": {
        "colab": {
          "base_uri": "https://localhost:8080/"
        },
        "id": "1SALnzs_yhd5",
        "outputId": "a87a4fe7-089b-4f75-c54f-ebf99d640b06"
      },
      "execution_count": null,
      "outputs": [
        {
          "output_type": "execute_result",
          "data": {
            "text/plain": [
              "[12482,\n",
              " 7801,\n",
              " 21068,\n",
              " 9121,\n",
              " 10296,\n",
              " 1047,\n",
              " 5186,\n",
              " 6496,\n",
              " 1008,\n",
              " 7644,\n",
              " 5043,\n",
              " 10427,\n",
              " 11102,\n",
              " 17109,\n",
              " 52043,\n",
              " 17407,\n",
              " 5231,\n",
              " 10409,\n",
              " 43577,\n",
              " 20245,\n",
              " 26107,\n",
              " 3764,\n",
              " 9706,\n",
              " 5645,\n",
              " 9773,\n",
              " 5468]"
            ]
          },
          "metadata": {},
          "execution_count": 10
        }
      ]
    },
    {
      "cell_type": "code",
      "source": [
        "my_list = x.columns.values.tolist()"
      ],
      "metadata": {
        "id": "pWGcDSKV0jnN"
      },
      "execution_count": null,
      "outputs": []
    },
    {
      "cell_type": "code",
      "source": [
        "x[\"result\"]=y"
      ],
      "metadata": {
        "id": "Xm968GU21dCp"
      },
      "execution_count": null,
      "outputs": []
    },
    {
      "cell_type": "code",
      "source": [
        "def prod(L1,i):\n",
        "    mul = 1\n",
        "    a1 = x[x[\"result\"]==i]\n",
        "    val = my_list\n",
        "    for j in range(784):\n",
        "      # a = a1[a1[val[j]]==L1[j]]\n",
        "      a = np.array(a1[val[j]]==L1[j])\n",
        "      # count1 = len(a)+1\n",
        "      count1 = np.count_nonzero(a)+1#np.count_nonzero here used for counting the True values as the True has value 1 and False has zero and +1 for smoothing\n",
        "      count1 = count1\n",
        "      count2 = L[i]\n",
        "      count3 = count1/count2\n",
        "      mul = mul*count3\n",
        "    return mul\n",
        "\n",
        "def predict(L1):\n",
        "  \n",
        "  L34=[]\n",
        "  def deno(L1):\n",
        "    print(\"Applying Multinomial Bayes started...\")\n",
        "    sum1 = 0\n",
        "    for i in range(26):\n",
        "      count1 = L[i]\n",
        "      count2 = prod(L1,i)\n",
        "      # print(count2)\n",
        "      L34.append(count2)\n",
        "      count3 = count1*count2\n",
        "\n",
        "      sum1 = sum1+count3\n",
        "    print(\"denominator calculated...\")\n",
        "    return sum1\n",
        "  # print(sum)\n",
        "  L2 = []\n",
        "  deno1 = deno(L1)\n",
        "  print(deno1)\n",
        "\n",
        "  def res(L1):\n",
        "    for i in range(26):\n",
        "      count11 = L[i]\n",
        "      # count22 = prod(L1,i)\n",
        "      count22 = L34[i]\n",
        "      count33 = count11*count22\n",
        "      count55 = deno1\n",
        "      count44 = count33/count55\n",
        "      L2.append(count44)\n",
        "    print(\"Letter Identification completed successfully :)\")\n",
        "\n",
        "  res(L1)\n",
        "\n",
        "  # res_fin = np.argmax(L2)\n",
        "  return L2\n",
        "\n",
        "\n",
        "\n",
        "\n",
        "\n"
      ],
      "metadata": {
        "id": "5NLoPaF7yzX_"
      },
      "execution_count": null,
      "outputs": []
    },
    {
      "cell_type": "code",
      "source": [
        "X_test[\"result\"]=y_test\n"
      ],
      "metadata": {
        "id": "beuLpV9BGQrA"
      },
      "execution_count": null,
      "outputs": []
    },
    {
      "cell_type": "code",
      "source": [
        "test = []\n",
        "L5=[]\n",
        "# testing = [0,1,2,3,4,5,6,7,8,9,10,11,12,13,14,15,16,17,18,19,20,21,22,23,24,25]\n",
        "for i in [0,1,2,3,4,5,6,7,8,9,10,11,12,13,14,15,16,17,18,19,20,21,22,23,24,25]:\n",
        "#   t = X_train[X_train[\"result\"]==i].iloc[1]\n",
        "#   test.append(t[:784])\n",
        "  t = X_test[X_test[\"result\"]==i].iloc[1]\n",
        "  t1 = X_test[X_test[\"result\"]==i].iloc[2]\n",
        "  t2 = X_test[X_test[\"result\"]==i].iloc[3]\n",
        "  t3 = X_test[X_test[\"result\"]==i].iloc[4]\n",
        "  test.append(t[:784])\n",
        "  test.append(t1[:784])\n",
        "  test.append(t2[:784])\n",
        "  test.append(t3[:784])\n",
        "for i in test:\n",
        "  L5.append(predict(i))\n",
        "  # mul = prod(i,1)\n",
        "  # print(mul)"
      ],
      "metadata": {
        "id": "08Ma9UuuN-qU",
        "colab": {
          "base_uri": "https://localhost:8080/"
        },
        "outputId": "7cd85696-d090-4a5a-a096-d957a6629ec3"
      },
      "execution_count": null,
      "outputs": [
        {
          "output_type": "stream",
          "name": "stdout",
          "text": [
            "Applying Multinomial Bayes started...\n",
            "denominator calculated...\n",
            "1.840430917598321e-121\n",
            "Letter Identification completed successfully :)\n",
            "Applying Multinomial Bayes started...\n",
            "denominator calculated...\n",
            "1.0365950285561408e-154\n",
            "Letter Identification completed successfully :)\n",
            "Applying Multinomial Bayes started...\n",
            "denominator calculated...\n",
            "4.541690317799991e-149\n",
            "Letter Identification completed successfully :)\n",
            "Applying Multinomial Bayes started...\n",
            "denominator calculated...\n",
            "6.852691213840515e-136\n",
            "Letter Identification completed successfully :)\n",
            "Applying Multinomial Bayes started...\n",
            "denominator calculated...\n",
            "6.293701805530718e-154\n",
            "Letter Identification completed successfully :)\n",
            "Applying Multinomial Bayes started...\n",
            "denominator calculated...\n",
            "8.83765363279296e-143\n",
            "Letter Identification completed successfully :)\n",
            "Applying Multinomial Bayes started...\n",
            "denominator calculated...\n",
            "5.110715571874876e-141\n",
            "Letter Identification completed successfully :)\n",
            "Applying Multinomial Bayes started...\n",
            "denominator calculated...\n",
            "1.1728635904948509e-121\n",
            "Letter Identification completed successfully :)\n",
            "Applying Multinomial Bayes started...\n",
            "denominator calculated...\n",
            "2.727405317802368e-107\n",
            "Letter Identification completed successfully :)\n",
            "Applying Multinomial Bayes started...\n",
            "denominator calculated...\n",
            "1.4206525867636709e-123\n",
            "Letter Identification completed successfully :)\n",
            "Applying Multinomial Bayes started...\n",
            "denominator calculated...\n",
            "4.754684979684921e-115\n",
            "Letter Identification completed successfully :)\n",
            "Applying Multinomial Bayes started...\n",
            "denominator calculated...\n",
            "1.1506091867587516e-134\n",
            "Letter Identification completed successfully :)\n",
            "Applying Multinomial Bayes started...\n",
            "denominator calculated...\n",
            "4.574330997780593e-127\n",
            "Letter Identification completed successfully :)\n",
            "Applying Multinomial Bayes started...\n",
            "denominator calculated...\n",
            "5.427495710687963e-139\n",
            "Letter Identification completed successfully :)\n",
            "Applying Multinomial Bayes started...\n",
            "denominator calculated...\n",
            "1.931379837216397e-132\n",
            "Letter Identification completed successfully :)\n",
            "Applying Multinomial Bayes started...\n",
            "denominator calculated...\n",
            "3.660414277108412e-172\n",
            "Letter Identification completed successfully :)\n",
            "Applying Multinomial Bayes started...\n",
            "denominator calculated...\n",
            "7.490652942661146e-143\n",
            "Letter Identification completed successfully :)\n",
            "Applying Multinomial Bayes started...\n",
            "denominator calculated...\n",
            "3.6470945216745263e-162\n",
            "Letter Identification completed successfully :)\n",
            "Applying Multinomial Bayes started...\n",
            "denominator calculated...\n",
            "2.1959766264610503e-113\n",
            "Letter Identification completed successfully :)\n",
            "Applying Multinomial Bayes started...\n",
            "denominator calculated...\n",
            "2.266484852745687e-186\n",
            "Letter Identification completed successfully :)\n",
            "Applying Multinomial Bayes started...\n",
            "denominator calculated...\n",
            "5.0594010273389163e-101\n",
            "Letter Identification completed successfully :)\n",
            "Applying Multinomial Bayes started...\n",
            "denominator calculated...\n",
            "2.188880643783806e-108\n",
            "Letter Identification completed successfully :)\n",
            "Applying Multinomial Bayes started...\n",
            "denominator calculated...\n",
            "3.333549208918732e-99\n",
            "Letter Identification completed successfully :)\n",
            "Applying Multinomial Bayes started...\n",
            "denominator calculated...\n",
            "5.4993173028968015e-124\n",
            "Letter Identification completed successfully :)\n",
            "Applying Multinomial Bayes started...\n",
            "denominator calculated...\n",
            "2.776990382000672e-156\n",
            "Letter Identification completed successfully :)\n",
            "Applying Multinomial Bayes started...\n",
            "denominator calculated...\n",
            "1.0861127977459213e-128\n",
            "Letter Identification completed successfully :)\n",
            "Applying Multinomial Bayes started...\n",
            "denominator calculated...\n",
            "1.842765071588033e-133\n",
            "Letter Identification completed successfully :)\n",
            "Applying Multinomial Bayes started...\n",
            "denominator calculated...\n",
            "5.437235751510091e-147\n",
            "Letter Identification completed successfully :)\n",
            "Applying Multinomial Bayes started...\n",
            "denominator calculated...\n",
            "2.4563827913957807e-106\n",
            "Letter Identification completed successfully :)\n",
            "Applying Multinomial Bayes started...\n",
            "denominator calculated...\n",
            "2.6377586062402036e-143\n",
            "Letter Identification completed successfully :)\n",
            "Applying Multinomial Bayes started...\n",
            "denominator calculated...\n",
            "6.104369121425733e-113\n",
            "Letter Identification completed successfully :)\n",
            "Applying Multinomial Bayes started...\n",
            "denominator calculated...\n",
            "5.03090972386892e-134\n",
            "Letter Identification completed successfully :)\n",
            "Applying Multinomial Bayes started...\n",
            "denominator calculated...\n",
            "6.377438247950419e-99\n",
            "Letter Identification completed successfully :)\n",
            "Applying Multinomial Bayes started...\n",
            "denominator calculated...\n",
            "8.028045605542347e-114\n",
            "Letter Identification completed successfully :)\n",
            "Applying Multinomial Bayes started...\n",
            "denominator calculated...\n",
            "2.262018625511952e-90\n",
            "Letter Identification completed successfully :)\n",
            "Applying Multinomial Bayes started...\n",
            "denominator calculated...\n",
            "8.973728449182899e-124\n",
            "Letter Identification completed successfully :)\n",
            "Applying Multinomial Bayes started...\n",
            "denominator calculated...\n",
            "1.0427300661139469e-138\n",
            "Letter Identification completed successfully :)\n",
            "Applying Multinomial Bayes started...\n",
            "denominator calculated...\n",
            "9.362003274818974e-116\n",
            "Letter Identification completed successfully :)\n",
            "Applying Multinomial Bayes started...\n",
            "denominator calculated...\n",
            "6.587825185107502e-104\n",
            "Letter Identification completed successfully :)\n",
            "Applying Multinomial Bayes started...\n",
            "denominator calculated...\n",
            "6.466332892046905e-129\n",
            "Letter Identification completed successfully :)\n",
            "Applying Multinomial Bayes started...\n",
            "denominator calculated...\n",
            "3.4004413213675546e-109\n",
            "Letter Identification completed successfully :)\n",
            "Applying Multinomial Bayes started...\n",
            "denominator calculated...\n",
            "1.7666289518118962e-144\n",
            "Letter Identification completed successfully :)\n",
            "Applying Multinomial Bayes started...\n",
            "denominator calculated...\n",
            "1.5116753751904289e-123\n",
            "Letter Identification completed successfully :)\n",
            "Applying Multinomial Bayes started...\n",
            "denominator calculated...\n",
            "1.122299672312198e-158\n",
            "Letter Identification completed successfully :)\n",
            "Applying Multinomial Bayes started...\n",
            "denominator calculated...\n",
            "2.297727719344209e-108\n",
            "Letter Identification completed successfully :)\n",
            "Applying Multinomial Bayes started...\n",
            "denominator calculated...\n",
            "1.0671266254968059e-107\n",
            "Letter Identification completed successfully :)\n",
            "Applying Multinomial Bayes started...\n",
            "denominator calculated...\n",
            "2.0422296165453815e-123\n",
            "Letter Identification completed successfully :)\n",
            "Applying Multinomial Bayes started...\n",
            "denominator calculated...\n",
            "6.605841491057713e-104\n",
            "Letter Identification completed successfully :)\n",
            "Applying Multinomial Bayes started...\n",
            "denominator calculated...\n",
            "2.4090880099449662e-114\n",
            "Letter Identification completed successfully :)\n",
            "Applying Multinomial Bayes started...\n",
            "denominator calculated...\n",
            "2.2944169698095743e-109\n",
            "Letter Identification completed successfully :)\n",
            "Applying Multinomial Bayes started...\n",
            "denominator calculated...\n",
            "1.7764842318242964e-133\n",
            "Letter Identification completed successfully :)\n",
            "Applying Multinomial Bayes started...\n",
            "denominator calculated...\n",
            "3.4256084664113236e-137\n",
            "Letter Identification completed successfully :)\n",
            "Applying Multinomial Bayes started...\n",
            "denominator calculated...\n",
            "7.486628644125127e-104\n",
            "Letter Identification completed successfully :)\n",
            "Applying Multinomial Bayes started...\n",
            "denominator calculated...\n",
            "3.961304532455406e-130\n",
            "Letter Identification completed successfully :)\n",
            "Applying Multinomial Bayes started...\n",
            "denominator calculated...\n",
            "3.651015512677184e-121\n",
            "Letter Identification completed successfully :)\n",
            "Applying Multinomial Bayes started...\n",
            "denominator calculated...\n",
            "5.119745573781035e-121\n",
            "Letter Identification completed successfully :)\n",
            "Applying Multinomial Bayes started...\n",
            "denominator calculated...\n",
            "1.548080862985307e-128\n",
            "Letter Identification completed successfully :)\n",
            "Applying Multinomial Bayes started...\n",
            "denominator calculated...\n",
            "1.0008826598594447e-138\n",
            "Letter Identification completed successfully :)\n",
            "Applying Multinomial Bayes started...\n",
            "denominator calculated...\n",
            "7.041735385335675e-140\n",
            "Letter Identification completed successfully :)\n",
            "Applying Multinomial Bayes started...\n",
            "denominator calculated...\n",
            "4.7728158115888217e-141\n",
            "Letter Identification completed successfully :)\n",
            "Applying Multinomial Bayes started...\n",
            "denominator calculated...\n",
            "3.307167116967703e-130\n",
            "Letter Identification completed successfully :)\n",
            "Applying Multinomial Bayes started...\n",
            "denominator calculated...\n",
            "1.6722672505160092e-119\n",
            "Letter Identification completed successfully :)\n",
            "Applying Multinomial Bayes started...\n",
            "denominator calculated...\n",
            "2.284123576142151e-96\n",
            "Letter Identification completed successfully :)\n",
            "Applying Multinomial Bayes started...\n",
            "denominator calculated...\n",
            "5.08016647578986e-110\n",
            "Letter Identification completed successfully :)\n",
            "Applying Multinomial Bayes started...\n",
            "denominator calculated...\n",
            "2.522061145596281e-122\n",
            "Letter Identification completed successfully :)\n",
            "Applying Multinomial Bayes started...\n",
            "denominator calculated...\n",
            "4.4831276479085365e-145\n",
            "Letter Identification completed successfully :)\n",
            "Applying Multinomial Bayes started...\n",
            "denominator calculated...\n",
            "9.508690799430902e-126\n",
            "Letter Identification completed successfully :)\n",
            "Applying Multinomial Bayes started...\n",
            "denominator calculated...\n",
            "4.1984507274109853e-159\n",
            "Letter Identification completed successfully :)\n",
            "Applying Multinomial Bayes started...\n",
            "denominator calculated...\n",
            "6.455848867690617e-145\n",
            "Letter Identification completed successfully :)\n",
            "Applying Multinomial Bayes started...\n",
            "denominator calculated...\n",
            "7.610900636882955e-144\n",
            "Letter Identification completed successfully :)\n",
            "Applying Multinomial Bayes started...\n",
            "denominator calculated...\n",
            "2.314434468431397e-127\n",
            "Letter Identification completed successfully :)\n",
            "Applying Multinomial Bayes started...\n",
            "denominator calculated...\n",
            "2.9104238068148058e-145\n",
            "Letter Identification completed successfully :)\n",
            "Applying Multinomial Bayes started...\n",
            "denominator calculated...\n",
            "6.478000539504379e-143\n",
            "Letter Identification completed successfully :)\n",
            "Applying Multinomial Bayes started...\n",
            "denominator calculated...\n",
            "9.788696600333175e-150\n",
            "Letter Identification completed successfully :)\n",
            "Applying Multinomial Bayes started...\n",
            "denominator calculated...\n",
            "3.002745274995512e-162\n",
            "Letter Identification completed successfully :)\n",
            "Applying Multinomial Bayes started...\n",
            "denominator calculated...\n",
            "2.731903146735701e-103\n",
            "Letter Identification completed successfully :)\n",
            "Applying Multinomial Bayes started...\n",
            "denominator calculated...\n",
            "9.749833666158935e-104\n",
            "Letter Identification completed successfully :)\n",
            "Applying Multinomial Bayes started...\n",
            "denominator calculated...\n",
            "2.6854871278967444e-99\n",
            "Letter Identification completed successfully :)\n",
            "Applying Multinomial Bayes started...\n",
            "denominator calculated...\n",
            "2.7829380380341668e-123\n",
            "Letter Identification completed successfully :)\n",
            "Applying Multinomial Bayes started...\n",
            "denominator calculated...\n",
            "2.3221057346413173e-104\n",
            "Letter Identification completed successfully :)\n",
            "Applying Multinomial Bayes started...\n",
            "denominator calculated...\n",
            "2.8963978487424588e-143\n",
            "Letter Identification completed successfully :)\n",
            "Applying Multinomial Bayes started...\n",
            "denominator calculated...\n",
            "3.668950334207348e-155\n",
            "Letter Identification completed successfully :)\n",
            "Applying Multinomial Bayes started...\n",
            "denominator calculated...\n",
            "2.277300961321689e-112\n",
            "Letter Identification completed successfully :)\n",
            "Applying Multinomial Bayes started...\n",
            "denominator calculated...\n",
            "1.87893654234073e-133\n",
            "Letter Identification completed successfully :)\n",
            "Applying Multinomial Bayes started...\n",
            "denominator calculated...\n",
            "1.9877564094772416e-113\n",
            "Letter Identification completed successfully :)\n",
            "Applying Multinomial Bayes started...\n",
            "denominator calculated...\n",
            "9.366551265068946e-139\n",
            "Letter Identification completed successfully :)\n",
            "Applying Multinomial Bayes started...\n",
            "denominator calculated...\n",
            "7.655325546543839e-133\n",
            "Letter Identification completed successfully :)\n",
            "Applying Multinomial Bayes started...\n",
            "denominator calculated...\n",
            "6.9340804135071896e-124\n",
            "Letter Identification completed successfully :)\n",
            "Applying Multinomial Bayes started...\n",
            "denominator calculated...\n",
            "6.492065504635066e-109\n",
            "Letter Identification completed successfully :)\n",
            "Applying Multinomial Bayes started...\n",
            "denominator calculated...\n",
            "1.1255318105848255e-121\n",
            "Letter Identification completed successfully :)\n",
            "Applying Multinomial Bayes started...\n",
            "denominator calculated...\n",
            "2.0028657418720896e-143\n",
            "Letter Identification completed successfully :)\n",
            "Applying Multinomial Bayes started...\n",
            "denominator calculated...\n",
            "1.5062114569883062e-162\n",
            "Letter Identification completed successfully :)\n",
            "Applying Multinomial Bayes started...\n",
            "denominator calculated...\n",
            "3.1242920652689616e-104\n",
            "Letter Identification completed successfully :)\n",
            "Applying Multinomial Bayes started...\n",
            "denominator calculated...\n",
            "2.228963164421889e-136\n",
            "Letter Identification completed successfully :)\n",
            "Applying Multinomial Bayes started...\n",
            "denominator calculated...\n",
            "3.1857885698585208e-136\n",
            "Letter Identification completed successfully :)\n",
            "Applying Multinomial Bayes started...\n",
            "denominator calculated...\n",
            "1.4952703059775302e-130\n",
            "Letter Identification completed successfully :)\n",
            "Applying Multinomial Bayes started...\n",
            "denominator calculated...\n",
            "1.4879126726789255e-92\n",
            "Letter Identification completed successfully :)\n",
            "Applying Multinomial Bayes started...\n",
            "denominator calculated...\n",
            "2.095072374860402e-87\n",
            "Letter Identification completed successfully :)\n",
            "Applying Multinomial Bayes started...\n",
            "denominator calculated...\n",
            "1.5759709798070143e-72\n",
            "Letter Identification completed successfully :)\n",
            "Applying Multinomial Bayes started...\n",
            "denominator calculated...\n",
            "8.051893165392747e-92\n",
            "Letter Identification completed successfully :)\n",
            "Applying Multinomial Bayes started...\n",
            "denominator calculated...\n",
            "6.532005110327025e-138\n",
            "Letter Identification completed successfully :)\n",
            "Applying Multinomial Bayes started...\n",
            "denominator calculated...\n",
            "7.692090689504527e-125\n",
            "Letter Identification completed successfully :)\n",
            "Applying Multinomial Bayes started...\n",
            "denominator calculated...\n",
            "1.1924673978105039e-138\n",
            "Letter Identification completed successfully :)\n",
            "Applying Multinomial Bayes started...\n",
            "denominator calculated...\n",
            "8.967013823705181e-139\n",
            "Letter Identification completed successfully :)\n"
          ]
        }
      ]
    },
    {
      "cell_type": "code",
      "source": [
        "L5\n",
        "testing1 = [0,1,2,3,4,5,6,7,8,9,10,11,12,13,14,15,16,17,18,19,20,21,22,23,24,25]\n",
        "testing = []\n",
        "for i in testing1:\n",
        "  for j in range(4):\n",
        "    testing.append(i)\n",
        "L9 = []\n",
        "for i in range(len(L5)):\n",
        "  L6 = np.array(L5[i])\n",
        "  prediction = np.argmax(L6)\n",
        "  L9.append(prediction)\n",
        "  LA=['A', 'B', 'C', 'D', 'E', 'F', 'G', 'H', 'I', 'J', 'K', 'L', 'M',\n",
        "  'N', 'O', 'P', 'Q', 'R', 'S', 'T', 'U', 'V', 'W', 'X', 'Y', 'Z']\n",
        "  print(\"the predicted letter is:\",LA[prediction]+\"&\"+\"Actual letter is :\",LA[testing[i]])\n",
        "\n"
      ],
      "metadata": {
        "id": "xNh1p7IOPLHI",
        "colab": {
          "base_uri": "https://localhost:8080/"
        },
        "outputId": "389886db-58aa-4c7e-ad8b-604d8f2fb96d"
      },
      "execution_count": null,
      "outputs": [
        {
          "output_type": "stream",
          "name": "stdout",
          "text": [
            "the predicted letter is: A&Actual letter is : A\n",
            "the predicted letter is: A&Actual letter is : A\n",
            "the predicted letter is: A&Actual letter is : A\n",
            "the predicted letter is: A&Actual letter is : A\n",
            "the predicted letter is: B&Actual letter is : B\n",
            "the predicted letter is: B&Actual letter is : B\n",
            "the predicted letter is: B&Actual letter is : B\n",
            "the predicted letter is: B&Actual letter is : B\n",
            "the predicted letter is: C&Actual letter is : C\n",
            "the predicted letter is: C&Actual letter is : C\n",
            "the predicted letter is: L&Actual letter is : C\n",
            "the predicted letter is: C&Actual letter is : C\n",
            "the predicted letter is: D&Actual letter is : D\n",
            "the predicted letter is: D&Actual letter is : D\n",
            "the predicted letter is: D&Actual letter is : D\n",
            "the predicted letter is: D&Actual letter is : D\n",
            "the predicted letter is: G&Actual letter is : E\n",
            "the predicted letter is: E&Actual letter is : E\n",
            "the predicted letter is: E&Actual letter is : E\n",
            "the predicted letter is: E&Actual letter is : E\n",
            "the predicted letter is: F&Actual letter is : F\n",
            "the predicted letter is: F&Actual letter is : F\n",
            "the predicted letter is: F&Actual letter is : F\n",
            "the predicted letter is: F&Actual letter is : F\n",
            "the predicted letter is: E&Actual letter is : G\n",
            "the predicted letter is: S&Actual letter is : G\n",
            "the predicted letter is: G&Actual letter is : G\n",
            "the predicted letter is: M&Actual letter is : G\n",
            "the predicted letter is: N&Actual letter is : H\n",
            "the predicted letter is: H&Actual letter is : H\n",
            "the predicted letter is: H&Actual letter is : H\n",
            "the predicted letter is: H&Actual letter is : H\n",
            "the predicted letter is: I&Actual letter is : I\n",
            "the predicted letter is: I&Actual letter is : I\n",
            "the predicted letter is: I&Actual letter is : I\n",
            "the predicted letter is: I&Actual letter is : I\n",
            "the predicted letter is: J&Actual letter is : J\n",
            "the predicted letter is: J&Actual letter is : J\n",
            "the predicted letter is: J&Actual letter is : J\n",
            "the predicted letter is: J&Actual letter is : J\n",
            "the predicted letter is: Y&Actual letter is : K\n",
            "the predicted letter is: K&Actual letter is : K\n",
            "the predicted letter is: K&Actual letter is : K\n",
            "the predicted letter is: K&Actual letter is : K\n",
            "the predicted letter is: X&Actual letter is : L\n",
            "the predicted letter is: L&Actual letter is : L\n",
            "the predicted letter is: L&Actual letter is : L\n",
            "the predicted letter is: L&Actual letter is : L\n",
            "the predicted letter is: M&Actual letter is : M\n",
            "the predicted letter is: M&Actual letter is : M\n",
            "the predicted letter is: M&Actual letter is : M\n",
            "the predicted letter is: M&Actual letter is : M\n",
            "the predicted letter is: N&Actual letter is : N\n",
            "the predicted letter is: W&Actual letter is : N\n",
            "the predicted letter is: H&Actual letter is : N\n",
            "the predicted letter is: W&Actual letter is : N\n",
            "the predicted letter is: O&Actual letter is : O\n",
            "the predicted letter is: O&Actual letter is : O\n",
            "the predicted letter is: O&Actual letter is : O\n",
            "the predicted letter is: O&Actual letter is : O\n",
            "the predicted letter is: P&Actual letter is : P\n",
            "the predicted letter is: P&Actual letter is : P\n",
            "the predicted letter is: P&Actual letter is : P\n",
            "the predicted letter is: Y&Actual letter is : P\n",
            "the predicted letter is: D&Actual letter is : Q\n",
            "the predicted letter is: Q&Actual letter is : Q\n",
            "the predicted letter is: Q&Actual letter is : Q\n",
            "the predicted letter is: Q&Actual letter is : Q\n",
            "the predicted letter is: R&Actual letter is : R\n",
            "the predicted letter is: R&Actual letter is : R\n",
            "the predicted letter is: R&Actual letter is : R\n",
            "the predicted letter is: R&Actual letter is : R\n",
            "the predicted letter is: S&Actual letter is : S\n",
            "the predicted letter is: Q&Actual letter is : S\n",
            "the predicted letter is: S&Actual letter is : S\n",
            "the predicted letter is: S&Actual letter is : S\n",
            "the predicted letter is: T&Actual letter is : T\n",
            "the predicted letter is: T&Actual letter is : T\n",
            "the predicted letter is: T&Actual letter is : T\n",
            "the predicted letter is: T&Actual letter is : T\n",
            "the predicted letter is: U&Actual letter is : U\n",
            "the predicted letter is: U&Actual letter is : U\n",
            "the predicted letter is: W&Actual letter is : U\n",
            "the predicted letter is: U&Actual letter is : U\n",
            "the predicted letter is: V&Actual letter is : V\n",
            "the predicted letter is: U&Actual letter is : V\n",
            "the predicted letter is: N&Actual letter is : V\n",
            "the predicted letter is: V&Actual letter is : V\n",
            "the predicted letter is: W&Actual letter is : W\n",
            "the predicted letter is: W&Actual letter is : W\n",
            "the predicted letter is: W&Actual letter is : W\n",
            "the predicted letter is: W&Actual letter is : W\n",
            "the predicted letter is: X&Actual letter is : X\n",
            "the predicted letter is: X&Actual letter is : X\n",
            "the predicted letter is: X&Actual letter is : X\n",
            "the predicted letter is: X&Actual letter is : X\n",
            "the predicted letter is: Y&Actual letter is : Y\n",
            "the predicted letter is: Y&Actual letter is : Y\n",
            "the predicted letter is: Y&Actual letter is : Y\n",
            "the predicted letter is: Y&Actual letter is : Y\n",
            "the predicted letter is: Z&Actual letter is : Z\n",
            "the predicted letter is: Z&Actual letter is : Z\n",
            "the predicted letter is: Z&Actual letter is : Z\n",
            "the predicted letter is: Z&Actual letter is : Z\n"
          ]
        }
      ]
    },
    {
      "cell_type": "code",
      "source": [
        "plt.figure(figsize=(11,11))\n",
        "for i in range(104):\n",
        "  plt.subplot(24,6,i+1)\n",
        "  test1 = np.array(test[i]).reshape(28,28)\n",
        "  plt.imshow(test1)\n"
      ],
      "metadata": {
        "id": "r-Ry-JAB4OGO",
        "colab": {
          "base_uri": "https://localhost:8080/",
          "height": 499
        },
        "outputId": "c6388440-0529-4e85-803e-b4efd3ec9554"
      },
      "execution_count": null,
      "outputs": [
        {
          "output_type": "display_data",
          "data": {
            "text/plain": [
              "<Figure size 792x792 with 104 Axes>"
            ],
            "image/png": "[encoded data removed]"
          },
          "metadata": {
            "needs_background": "light"
          }
        }
      ]
    },
    {
      "cell_type": "code",
      "source": [
        "count123=0\n",
        "L11=[]\n",
        "for i in range(len(L9)):\n",
        "  L11.append(i//4)\n",
        "  if i//4==L9[i]:\n",
        "    count123+=1\n",
        "print(\"accuracy is:\",count123/len(L9))"
      ],
      "metadata": {
        "colab": {
          "base_uri": "https://localhost:8080/"
        },
        "id": "l4KAHtbhFcGL",
        "outputId": "afb9258c-77e3-4f5c-9991-5fd831bbd591"
      },
      "execution_count": null,
      "outputs": [
        {
          "output_type": "stream",
          "name": "stdout",
          "text": [
            "accuracy is: 0.8365384615384616\n"
          ]
        }
      ]
    },
    {
      "cell_type": "code",
      "source": [
        "from sklearn.metrics import confusion_matrix,f1_score"
      ],
      "metadata": {
        "id": "PV5AZomPdSDC"
      },
      "execution_count": null,
      "outputs": []
    },
    {
      "cell_type": "code",
      "source": [
        "\n",
        "cfmatrix = confusion_matrix(L11,L9)\n",
        "f1_score(L11,L9,average='weighted')"
      ],
      "metadata": {
        "colab": {
          "base_uri": "https://localhost:8080/"
        },
        "id": "BydbnB1M_uef",
        "outputId": "e3ebabf3-e82c-4e92-e9be-c60dac105579"
      },
      "execution_count": null,
      "outputs": [
        {
          "output_type": "execute_result",
          "data": {
            "text/plain": [
              "0.828887778887779"
            ]
          },
          "metadata": {},
          "execution_count": 32
        }
      ]
    },
    {
      "cell_type": "code",
      "source": [
        "plt.figure(figsize=(9,9))\n",
        "sns.heatmap(cfmatrix,annot=True)"
      ],
      "metadata": {
        "colab": {
          "base_uri": "https://localhost:8080/",
          "height": 558
        },
        "id": "DmWraPlRACxe",
        "outputId": "bc9dfc8a-9adb-4539-f9e3-03f5cb0df2ca"
      },
      "execution_count": null,
      "outputs": [
        {
          "output_type": "execute_result",
          "data": {
            "text/plain": [
              "<matplotlib.axes._subplots.AxesSubplot at 0x7f8bb1bf8690>"
            ]
          },
          "metadata": {},
          "execution_count": 25
        },
        {
          "output_type": "display_data",
          "data": {
            "text/plain": [
              "<Figure size 648x648 with 2 Axes>"
            ],
            "image/png": "[encoded data removed]"
          },
          "metadata": {
            "needs_background": "light"
          }
        }
      ]
    },
    {
      "cell_type": "code",
      "source": [],
      "metadata": {
        "id": "qeMusu_2AYXa"
      },
      "execution_count": null,
      "outputs": []
    }
  ]
}